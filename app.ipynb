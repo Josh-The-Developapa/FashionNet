{
 "cells": [
  {
   "attachments": {},
   "cell_type": "markdown",
   "metadata": {},
   "source": [
    "# Building a classifier for the clothing in FashionMNIST database\n"
   ]
  },
  {
   "attachments": {},
   "cell_type": "markdown",
   "metadata": {},
   "source": [
    "## Getting our data ready\n",
    "\n",
    "Define our train and test data sets and dataloaders\n"
   ]
  },
  {
   "cell_type": "code",
   "execution_count": 8,
   "metadata": {},
   "outputs": [],
   "source": [
    "import torch\n",
    "import torchvision\n",
    "from torch import nn, optim\n",
    "from torchvision import datasets, transforms\n",
    "from torch.utils.data import DataLoader\n",
    "import matplotlib.pyplot as plt\n",
    "\n",
    "batch_size = 4\n",
    "mean = (0.5,)\n",
    "std = (0.5,)\n",
    "\n",
    "transform = transforms.Compose([transforms.ToTensor(), transforms.Normalize(mean, std)])\n",
    "\n",
    "\n",
    "train_set = datasets.FashionMNIST(\n",
    "    root=\"./data\", download=True, train=True, transform=transform\n",
    ")\n",
    "test_set = datasets.FashionMNIST(\n",
    "    root=\"./data\", download=True, train=False, transform=transform\n",
    ")\n",
    "\n",
    "train_dataloader = DataLoader(train_set, batch_size=batch_size, shuffle=True)\n",
    "test_dataloader = DataLoader(test_set, batch_size=batch_size, shuffle=False)\n",
    "\n",
    "classes = (\n",
    "    \"T-shirt/top\",  # 0\n",
    "    \"Trouser\",  # 1\n",
    "    \"Pullover\",  # 2\n",
    "    \"Dress\",  # 3\n",
    "    \"Coat\",  # 4\n",
    "    \"Sandal\",  # 5\n",
    "    \"Shirt\",  # 6\n",
    "    \"Sneaker\",  # 7\n",
    "    \"Bag\",  # 8\n",
    "    \"Ankle boot\",  # 9\n",
    ")"
   ]
  },
  {
   "cell_type": "code",
   "execution_count": 9,
   "metadata": {},
   "outputs": [
    {
     "data": {
      "image/png": "[encoded data removed]",
      "text/plain": [
       "<Figure size 1000x500 with 4 Axes>"
      ]
     },
     "metadata": {},
     "output_type": "display_data"
    }
   ],
   "source": [
    "# Helper function for inline image display\n",
    "def matplotlib_imshow(batch):\n",
    "    # batch = [batch[0][0:5], batch[1][0:5]]\n",
    "    fig, axes = plt.subplots(1, len(batch[0]), figsize=(10, 5))\n",
    "    for idx, img in enumerate(batch[0]):\n",
    "        ax = axes[idx]\n",
    "        ax.imshow(img.squeeze(), cmap=\"gray\")\n",
    "        ax.axis(\"off\")\n",
    "        ax.set_title(classes[batch[1][idx]])\n",
    "\n",
    "    plt.tight_layout()\n",
    "    plt.show()\n",
    "\n",
    "\n",
    "# Display the first batch only\n",
    "for batch in train_dataloader:\n",
    "    matplotlib_imshow(batch)\n",
    "    break"
   ]
  },
  {
   "attachments": {},
   "cell_type": "markdown",
   "metadata": {},
   "source": [
    "## Create our Model\n"
   ]
  },
  {
   "cell_type": "code",
   "execution_count": 10,
   "metadata": {},
   "outputs": [
    {
     "name": "stdout",
     "output_type": "stream",
     "text": [
      "FashionNet(\n",
      "  (conv1): Conv2d(1, 6, kernel_size=(5, 5), stride=(1, 1))\n",
      "  (pool): MaxPool2d(kernel_size=2, stride=2, padding=0, dilation=1, ceil_mode=False)\n",
      "  (conv2): Conv2d(6, 16, kernel_size=(5, 5), stride=(1, 1))\n",
      "  (relu): ReLU()\n",
      "  (linear_stack): Sequential(\n",
      "    (0): Linear(in_features=256, out_features=120, bias=True)\n",
      "    (1): ReLU()\n",
      "    (2): Linear(in_features=120, out_features=84, bias=True)\n",
      "    (3): ReLU()\n",
      "    (4): Linear(in_features=84, out_features=10, bias=True)\n",
      "  )\n",
      ")\n"
     ]
    }
   ],
   "source": [
    "class FashionNet(nn.Module):\n",
    "    def __init__(self):\n",
    "        super().__init__()\n",
    "        self.conv1 = nn.Conv2d(1, 6, 5)\n",
    "        self.pool = nn.MaxPool2d(2, 2)\n",
    "        self.conv2 = nn.Conv2d(6, 16, 5)\n",
    "        self.relu = nn.ReLU()\n",
    "        self.linear_stack = nn.Sequential(\n",
    "            nn.Linear(16 * 4 * 4, 120),\n",
    "            nn.ReLU(),\n",
    "            nn.Linear(120, 84),\n",
    "            nn.ReLU(),\n",
    "            nn.Linear(84, 10),\n",
    "        )\n",
    "\n",
    "    def forward(self, x: torch.Tensor) -> torch.Tensor:\n",
    "        x = self.relu(self.conv1(x))\n",
    "        x = self.pool(x)\n",
    "        x = self.relu(self.conv2(x))\n",
    "        x = self.pool(x)\n",
    "        x = nn.Flatten()(x)\n",
    "        x = self.linear_stack(x)\n",
    "        return x\n",
    "\n",
    "\n",
    "# Define our model\n",
    "model = FashionNet()\n",
    "\n",
    "learning_rate = 0.001\n",
    "\n",
    "# Define our criterion\n",
    "criterion = nn.CrossEntropyLoss()\n",
    "\n",
    "# Define our optimiser\n",
    "optimiser = optim.SGD(model.parameters(), lr=learning_rate)\n",
    "\n",
    "print(model)"
   ]
  },
  {
   "attachments": {},
   "cell_type": "markdown",
   "metadata": {},
   "source": [
    "## Train our Model\n"
   ]
  },
  {
   "cell_type": "code",
   "execution_count": null,
   "metadata": {},
   "outputs": [],
   "source": [
    "def train_epoch(model, data_loader, loss_fn):\n",
    "    for idx, batch in enumerate(data_loader):\n",
    "        imgs, labels = batch[0], batch[1]\n",
    "\n",
    "        # Set parameter gradients back to zero\n",
    "        optimiser.zero_grad()\n",
    "\n",
    "        # Forward pass\n",
    "        output = model(imgs)\n",
    "\n",
    "        # Calculate Loss\n",
    "        loss = loss_fn(output, labels)\n",
    "\n",
    "        # Back propagation\n",
    "        loss.backward()\n",
    "\n",
    "        # Update Parameters\n",
    "        optimiser.step()\n",
    "\n",
    "        if idx % 2000 == 0:\n",
    "            print(f\"Loss: {loss} | Batch: {idx}/{(len(data_loader)-1)}\")\n",
    "\n",
    "\n",
    "epochs = 5\n",
    "\n",
    "model.train(True)\n",
    "\n",
    "for epoch in range(epochs):\n",
    "    print(f\"\\nEpoch {epoch}\\n----------------\")\n",
    "    train_epoch(model=model, data_loader=train_dataloader, loss_fn=criterion)"
   ]
  },
  {
   "attachments": {},
   "cell_type": "markdown",
   "metadata": {},
   "source": [
    "## Save our model\n"
   ]
  },
  {
   "cell_type": "code",
   "execution_count": 15,
   "metadata": {},
   "outputs": [],
   "source": [
    "torch.save(model.state_dict(), \"FashionNet.pt\")"
   ]
  },
  {
   "attachments": {},
   "cell_type": "markdown",
   "metadata": {},
   "source": [
    "## Evaluate our model's performance in a testing loop\n"
   ]
  },
  {
   "cell_type": "code",
   "execution_count": 20,
   "metadata": {},
   "outputs": [
    {
     "name": "stdout",
     "output_type": "stream",
     "text": [
      "Test Error: \n",
      " Accuracy: 88.6%, Avg loss: 0.309299 \n",
      "\n"
     ]
    }
   ],
   "source": [
    "model1 = FashionNet()\n",
    "model1.load_state_dict(torch.load(\"FashionNet.pt\"))\n",
    "model1.eval()\n",
    "\n",
    "\n",
    "def test_loop(dataloader, model, loss_fn):\n",
    "    model.eval()\n",
    "    size = len(dataloader.dataset)\n",
    "    num_batches = len(dataloader)\n",
    "    test_loss, correct = 0, 0\n",
    "\n",
    "    with torch.no_grad():\n",
    "        for X, y in dataloader:\n",
    "            pred = model(X)\n",
    "            test_loss += loss_fn(pred, y).item()\n",
    "            correct += (pred.argmax(1) == y).type(torch.float).sum().item()\n",
    "\n",
    "    test_loss /= num_batches\n",
    "    correct /= size\n",
    "    print(\n",
    "        f\"Test Error: \\n Accuracy: {(100*correct):>0.1f}%, Avg loss: {test_loss:>8f} \\n\"\n",
    "    )\n",
    "\n",
    "\n",
    "test_loop(test_dataloader, model, criterion)"
   ]
  }
 ],
 "metadata": {
  "kernelspec": {
   "display_name": "PyTorch_AI",
   "language": "python",
   "name": "python3"
  },
  "language_info": {
   "codemirror_mode": {
    "name": "ipython",
    "version": 3
   },
   "file_extension": ".py",
   "mimetype": "text/x-python",
   "name": "python",
   "nbconvert_exporter": "python",
   "pygments_lexer": "ipython3",
   "version": "3.10.0"
  },
  "orig_nbformat": 4
 },
 "nbformat": 4,
 "nbformat_minor": 2
}
